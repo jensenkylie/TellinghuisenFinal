{
 "cells": [
  {
   "cell_type": "code",
   "execution_count": 1,
   "metadata": {},
   "outputs": [],
   "source": [
    "import pandas as pd\n",
    "from shapely.geometry import Point, mapping\n",
    "from fiona import collection\n",
    "\n",
    "inCSV  = 'C:/lidar/2012GIS6345.csv'\n",
    "shpOut = '2012.shp'\n",
    "lon = 'lon'\n",
    "lat = 'lat'\n",
    "\n",
    "schema = { 'geometry': 'Point', 'properties': { 'name': 'str' } }\n",
    "\n",
    "df = pd.read_csv(inCSV) \n",
    "\n",
    "data = df\n",
    "with collection(shpOut, \"w\", \"ESRI Shapefile\", schema) as output:\n",
    "    for index, row in data.iterrows():\n",
    "        point = Point(row[lon], row[lat])\n",
    "        output.write({\n",
    "        'properties': {'name': row['name']},\n",
    "        'geometry': mapping(point)\n",
    "})"
   ]
  },
  {
   "cell_type": "code",
   "execution_count": 2,
   "metadata": {},
   "outputs": [],
   "source": [
    "#creating shapefile from .csv file"
   ]
  },
  {
   "cell_type": "code",
   "execution_count": 3,
   "metadata": {},
   "outputs": [],
   "source": [
    "#this code made 2012 shapefile"
   ]
  },
  {
   "cell_type": "code",
   "execution_count": 4,
   "metadata": {},
   "outputs": [],
   "source": [
    "import pandas as pd\n",
    "from shapely.geometry import Point, mapping\n",
    "from fiona import collection\n",
    "\n",
    "inCSV  = 'C:/lidar/moose_harvest_2009.csv'\n",
    "shpOut = '2009.shp'\n",
    "lon = 'lon'\n",
    "lat = 'lat'\n",
    "\n",
    "schema = { 'geometry': 'Point', 'properties': { 'name': 'str' } }\n",
    "\n",
    "df = pd.read_csv(inCSV) \n",
    "\n",
    "data = df\n",
    "with collection(shpOut, \"w\", \"ESRI Shapefile\", schema) as output:\n",
    "    for index, row in data.iterrows():\n",
    "        point = Point(row[lon], row[lat])\n",
    "        output.write({\n",
    "        'properties': {'name': row['name']},\n",
    "        'geometry': mapping(point)\n",
    "})\n",
    "        \n",
    "#created a shapefile for 2009 too\n",
    "#plan is to combine them together into one shapefile through geopandas"
   ]
  },
  {
   "cell_type": "code",
   "execution_count": 5,
   "metadata": {},
   "outputs": [],
   "source": [
    "import pandas as pd\n",
    "import geopandas as gpd\n",
    "\n",
    "gdf1 = gpd.read_file('2012.shp')\n",
    "gdf2 = gpd.read_file('2009.shp')\n",
    "\n",
    "gdf = gpd.GeoDataFrame(pd.concat([gdf1, gdf2]))"
   ]
  },
  {
   "cell_type": "code",
   "execution_count": 6,
   "metadata": {},
   "outputs": [],
   "source": [
    "#creating a buffer around the 2009 data for Moose harvest"
   ]
  },
  {
   "cell_type": "code",
   "execution_count": 7,
   "metadata": {},
   "outputs": [],
   "source": [
    "from shapely.geometry import mapping, shape\n",
    "\n",
    "from fiona import collection\n",
    "\n",
    "\n",
    "\n",
    "with collection(\"2009.shp\", \"r\") as input:\n",
    "\n",
    "    # schema = input.schema.copy()\n",
    "\n",
    "    schema = { 'geometry': 'Polygon', 'properties': { 'name': 'str' } }\n",
    "\n",
    "    with collection(\n",
    "\n",
    "        \"2009_realbuffer.shp\", \"w\", \"ESRI Shapefile\", schema) as output:\n",
    "\n",
    "        for point in input:\n",
    "\n",
    "            output.write({\n",
    "\n",
    "                'properties': {\n",
    "\n",
    "                    'name': point['properties']['name']\n",
    "\n",
    "                },\n",
    "\n",
    "                'geometry': mapping(shape(point['geometry']).buffer(5.0))\n",
    "\n",
    "            })"
   ]
  },
  {
   "cell_type": "code",
   "execution_count": 8,
   "metadata": {},
   "outputs": [],
   "source": [
    "from shapely.geometry import mapping, shape\n",
    "from shapely.ops import cascaded_union\n",
    "from fiona import collection\n",
    "\n",
    "with collection(\"2009_realbuffer.shp\", \"r\") as input:\n",
    "    schema = input.schema.copy()\n",
    "    with collection(\n",
    "            \"2009_realunion.shp\", \"w\", \"ESRI Shapefile\", schema) as output:\n",
    "        shapes = []\n",
    "        for f in input:\n",
    "            shapes.append(shape(f['geometry']))\n",
    "        merged = cascaded_union(shapes)\n",
    "        output.write({\n",
    "            'properties': {\n",
    "                'name': 'Buffer Area'\n",
    "                },\n",
    "            'geometry': mapping(merged)\n",
    "            })"
   ]
  },
  {
   "cell_type": "code",
   "execution_count": null,
   "metadata": {},
   "outputs": [],
   "source": []
  }
 ],
 "metadata": {
  "kernelspec": {
   "display_name": "Python 3",
   "language": "python",
   "name": "python3"
  },
  "language_info": {
   "codemirror_mode": {
    "name": "ipython",
    "version": 3
   },
   "file_extension": ".py",
   "mimetype": "text/x-python",
   "name": "python",
   "nbconvert_exporter": "python",
   "pygments_lexer": "ipython3",
   "version": "3.7.3"
  }
 },
 "nbformat": 4,
 "nbformat_minor": 2
}
